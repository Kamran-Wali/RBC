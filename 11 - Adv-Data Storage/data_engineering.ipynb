{
 "cells": [
  {
   "cell_type": "markdown",
   "metadata": {},
   "source": [
    "## Import and Clean Database"
   ]
  },
  {
   "cell_type": "code",
<<<<<<< HEAD
   "execution_count": 15,
=======
   "execution_count": 3,
>>>>>>> b6c85d893015c7e8d371a77ee99a34a0e91e4d45
   "metadata": {
    "collapsed": true
   },
   "outputs": [],
   "source": [
    "#Dependencies\n",
    "import os\n",
    "import pandas as pd\n",
    "import numpy as np"
   ]
  },
  {
   "cell_type": "code",
<<<<<<< HEAD
   "execution_count": 16,
   "metadata": {
    "collapsed": true
   },
=======
   "execution_count": 4,
   "metadata": {},
>>>>>>> b6c85d893015c7e8d371a77ee99a34a0e91e4d45
   "outputs": [],
   "source": [
    "# Grab a reference to the current directory\n",
    "rootdir = os.getcwd()"
   ]
  },
  {
   "cell_type": "code",
<<<<<<< HEAD
   "execution_count": 17,
=======
   "execution_count": 5,
>>>>>>> b6c85d893015c7e8d371a77ee99a34a0e91e4d45
   "metadata": {},
   "outputs": [
    {
     "name": "stderr",
     "output_type": "stream",
     "text": [
<<<<<<< HEAD
      "cp: missing destination file operand after '../../data/hawaii_measurements.csv.'\n",
      "Try 'cp --help' for more information.\n",
      "cp: missing destination file operand after '../../data/hawaii_stations.csv.'\n",
      "Try 'cp --help' for more information.\n"
=======
      "cp: cannot stat '../../Resources/data/hawaii_measurements.csv': No such file or directory\n",
      "cp: cannot stat '../../Resources/data/hawaii_stations.csv': No such file or directory\n"
>>>>>>> b6c85d893015c7e8d371a77ee99a34a0e91e4d45
     ]
    }
   ],
   "source": [
    "# Copy the weather station csv files from the Resources directory\n",
<<<<<<< HEAD
    "!cp ../../data/hawaii_measurements.csv.\n",
    "!cp ../../data/hawaii_stations.csv."
=======
    "!cp ../../Resources/data/hawaii_measurements.csv .\n",
    "!cp ../../Resources/data/hawaii_stations.csv ."
>>>>>>> b6c85d893015c7e8d371a77ee99a34a0e91e4d45
   ]
  },
  {
   "cell_type": "code",
<<<<<<< HEAD
   "execution_count": 18,
=======
   "execution_count": null,
>>>>>>> b6c85d893015c7e8d371a77ee99a34a0e91e4d45
   "metadata": {
    "collapsed": true
   },
   "outputs": [],
   "source": [
    "# Use 'os.scandir' to get a list of all files in the current directory\n",
    "csvs = os.scandir(rootdir)"
   ]
  },
  {
   "cell_type": "code",
<<<<<<< HEAD
   "execution_count": 19,
   "metadata": {
    "collapsed": true
   },
   "outputs": [],
   "source": [
    "# Iterate through the list and clean/process any CSL file using Pandas\n",
    "for csv in csvs:  \n",
    "    # Only open CSV file extensions\n",
    "    if csv.name.endswith('.csv'):\n",
    "        # Read the CSV file\n",
    "        df = pd.read_csv(csv.path, dtype=object)\n",
    "        # Drop the location column since lat, lon, and elev already exist\n",
    "        if 'location' in df.columns:\n",
    "            df = df.drop(['location'], axis=1).reset_index(drop=True)\n",
    "        # Use the mean to fill in any NaNs\n",
    "        df.fillna(df.mean(), inplace=True)\n",
=======
   "execution_count": 6,
   "metadata": {},
   "outputs": [
    {
     "ename": "NameError",
     "evalue": "name 'csvs' is not defined",
     "output_type": "error",
     "traceback": [
      "\u001b[1;31m---------------------------------------------------------------------------\u001b[0m",
      "\u001b[1;31mNameError\u001b[0m                                 Traceback (most recent call last)",
      "\u001b[1;32m<ipython-input-6-8a26c677be78>\u001b[0m in \u001b[0;36m<module>\u001b[1;34m()\u001b[0m\n\u001b[0;32m      1\u001b[0m \u001b[1;31m# Iterate through the list and clean/process any CSL file using Pandas\u001b[0m\u001b[1;33m\u001b[0m\u001b[1;33m\u001b[0m\u001b[0m\n\u001b[1;32m----> 2\u001b[1;33m \u001b[1;32mfor\u001b[0m \u001b[0mcsv\u001b[0m \u001b[1;32min\u001b[0m \u001b[0mcsvs\u001b[0m\u001b[1;33m:\u001b[0m\u001b[1;33m\u001b[0m\u001b[0m\n\u001b[0m\u001b[0;32m      3\u001b[0m     \u001b[1;31m# Only open CSV file extensions\u001b[0m\u001b[1;33m\u001b[0m\u001b[1;33m\u001b[0m\u001b[0m\n\u001b[0;32m      4\u001b[0m     \u001b[1;32mif\u001b[0m \u001b[0mcsv\u001b[0m\u001b[1;33m.\u001b[0m\u001b[0mname\u001b[0m\u001b[1;33m.\u001b[0m\u001b[0mendswith\u001b[0m\u001b[1;33m(\u001b[0m\u001b[1;34m'.csv'\u001b[0m\u001b[1;33m)\u001b[0m\u001b[1;33m:\u001b[0m\u001b[1;33m\u001b[0m\u001b[0m\n\u001b[0;32m      5\u001b[0m         \u001b[1;31m# Read the CSV file\u001b[0m\u001b[1;33m\u001b[0m\u001b[1;33m\u001b[0m\u001b[0m\n",
      "\u001b[1;31mNameError\u001b[0m: name 'csvs' is not defined"
     ]
    }
   ],
   "source": [
    "# Iterate through the list and clean/process any CSL file using Pandas\n",
    "for csv in csvs:\n",
    "    \n",
    "    # Only open CSV file extensions\n",
    "    if csv.name.endswith('.csv'):\n",
    "        \n",
    "        # Read the CSV file\n",
    "        df = pd.read_csv(csv.path, dtype=object)\n",
    "        \n",
    "        # Drop the location column since lat, lon, and elev already exist\n",
    "        if 'location' in df.columns:\n",
    "            df = df.drop(['location'], axis=1).reset_index(drop=True)\n",
    "       \n",
    "        # Use the mean to fill in any NaNs\n",
    "        df.fillna(df.mean(), inplace=True)\n",
    "        \n",
>>>>>>> b6c85d893015c7e8d371a77ee99a34a0e91e4d45
    "        # Save the cleaned files with a 'clean_' prefix\n",
    "        df.to_csv(os.path.join(rootdir, f\"clean_{csv.name}\"), index=False)"
   ]
  },
  {
   "cell_type": "code",
<<<<<<< HEAD
   "execution_count": 20,
=======
   "execution_count": 7,
>>>>>>> b6c85d893015c7e8d371a77ee99a34a0e91e4d45
   "metadata": {},
   "outputs": [
    {
     "name": "stdout",
     "output_type": "stream",
     "text": [
<<<<<<< HEAD
      "app.py\n",
      "clean_hawaii_measurements.csv\n",
      "clean_hawaii_stations.csv\n",
      "climate_analysis.ipynb\n",
      "data\n",
      "data_engineering.ipynb\n",
      "database_engineering.ipynb\n",
      "hawaii.sqlite\n",
      "hawaii_measurements.csv\n",
      "hawaii_stations.csv\n",
      "README.md\n"
=======
      "climate_analysis.ipynb\n",
      "data_engineering.ipynb\n",
      "database_engineering.ipynb\n",
      "hawaii_measurements.csv\n",
      "hawaii_stations.csv\n"
>>>>>>> b6c85d893015c7e8d371a77ee99a34a0e91e4d45
     ]
    }
   ],
   "source": [
    "# Verify that the cleaned files were cleaned\n",
    "!ls"
   ]
<<<<<<< HEAD
=======
  },
  {
   "cell_type": "code",
   "execution_count": null,
   "metadata": {
    "collapsed": true
   },
   "outputs": [],
   "source": []
>>>>>>> b6c85d893015c7e8d371a77ee99a34a0e91e4d45
  }
 ],
 "metadata": {
  "kernelspec": {
   "display_name": "Python [conda env:PythonData]",
   "language": "python",
   "name": "conda-env-PythonData-py"
  },
  "language_info": {
   "codemirror_mode": {
    "name": "ipython",
    "version": 3
   },
   "file_extension": ".py",
   "mimetype": "text/x-python",
   "name": "python",
   "nbconvert_exporter": "python",
   "pygments_lexer": "ipython3",
   "version": "3.6.1"
  }
 },
 "nbformat": 4,
 "nbformat_minor": 2
}
