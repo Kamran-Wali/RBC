{
 "cells": [
  {
   "cell_type": "markdown",
   "metadata": {},
   "source": [
<<<<<<< HEAD
    "## Climate Analysis and Exploration"
=======
    "# Climate Analysis and Exploration"
>>>>>>> b6c85d893015c7e8d371a77ee99a34a0e91e4d45
   ]
  },
  {
   "cell_type": "markdown",
   "metadata": {},
   "source": [
    "### Setup"
   ]
  },
  {
   "cell_type": "code",
<<<<<<< HEAD
   "execution_count": 41,
=======
   "execution_count": 3,
>>>>>>> b6c85d893015c7e8d371a77ee99a34a0e91e4d45
   "metadata": {
    "collapsed": true
   },
   "outputs": [],
   "source": [
    "# Dependencies\n",
    "import matplotlib\n",
<<<<<<< HEAD
    "\n",
    "# matplotlib.use('nbagg')\n",
    "# from matplotlib import style\n",
    "# style.use('fivethirtyeight')\n",
    "\n",
    "import matplotlib.pyplot as plt\n",
    "\n",
    "import numpy as np\n",
    "import pandas as pd\n",
    "\n",
=======
    "matplotlib.use('nbagg')\n",
    "from matplotlib import style\n",
    "style.use('fivethirtyeight')\n",
    "import matplotlib.pyplot as plt\n",
    "import numpy as np\n",
    "import pandas as pd\n",
>>>>>>> b6c85d893015c7e8d371a77ee99a34a0e91e4d45
    "import datetime as dt"
   ]
  },
  {
   "cell_type": "markdown",
   "metadata": {},
   "source": [
    "# Reflect Tables into SQLAlchemy ORM"
   ]
  },
  {
   "cell_type": "code",
<<<<<<< HEAD
   "execution_count": 42,
=======
   "execution_count": 6,
>>>>>>> b6c85d893015c7e8d371a77ee99a34a0e91e4d45
   "metadata": {
    "collapsed": true
   },
   "outputs": [],
   "source": [
    "# Python SQL toolkit and Object Relational Mapper\n",
    "import sqlalchemy\n",
    "from sqlalchemy.ext.automap import automap_base\n",
    "from sqlalchemy.orm import Session\n",
<<<<<<< HEAD
    "from sqlalchemy import create_engine, func, desc, extract"
=======
    "from sqlalchemy import create_engine, func"
>>>>>>> b6c85d893015c7e8d371a77ee99a34a0e91e4d45
   ]
  },
  {
   "cell_type": "code",
<<<<<<< HEAD
   "execution_count": 43,
=======
   "execution_count": null,
>>>>>>> b6c85d893015c7e8d371a77ee99a34a0e91e4d45
   "metadata": {
    "collapsed": true
   },
   "outputs": [],
   "source": [
<<<<<<< HEAD
    "engine = create_engine(\"sqlite:///hawaii.sqlite\", echo=False)"
=======
    "engine = create_engine(\"sqlite:///hawaii.sqlite\")"
>>>>>>> b6c85d893015c7e8d371a77ee99a34a0e91e4d45
   ]
  },
  {
   "cell_type": "code",
<<<<<<< HEAD
   "execution_count": 44,
   "metadata": {
    "collapsed": true
   },
   "outputs": [],
=======
   "execution_count": 7,
   "metadata": {},
   "outputs": [
    {
     "ename": "NameError",
     "evalue": "name 'engine' is not defined",
     "output_type": "error",
     "traceback": [
      "\u001b[1;31m---------------------------------------------------------------------------\u001b[0m",
      "\u001b[1;31mNameError\u001b[0m                                 Traceback (most recent call last)",
      "\u001b[1;32m<ipython-input-7-c94d69c9e8b0>\u001b[0m in \u001b[0;36m<module>\u001b[1;34m()\u001b[0m\n\u001b[0;32m      2\u001b[0m \u001b[0mBase\u001b[0m \u001b[1;33m=\u001b[0m \u001b[0mautomap_base\u001b[0m\u001b[1;33m(\u001b[0m\u001b[1;33m)\u001b[0m\u001b[1;33m\u001b[0m\u001b[0m\n\u001b[0;32m      3\u001b[0m \u001b[1;31m# reflect the tables\u001b[0m\u001b[1;33m\u001b[0m\u001b[1;33m\u001b[0m\u001b[0m\n\u001b[1;32m----> 4\u001b[1;33m \u001b[0mBase\u001b[0m\u001b[1;33m.\u001b[0m\u001b[0mprepare\u001b[0m\u001b[1;33m(\u001b[0m\u001b[0mengine\u001b[0m\u001b[1;33m,\u001b[0m \u001b[0mreflect\u001b[0m\u001b[1;33m=\u001b[0m\u001b[1;32mTrue\u001b[0m\u001b[1;33m)\u001b[0m\u001b[1;33m\u001b[0m\u001b[0m\n\u001b[0m",
      "\u001b[1;31mNameError\u001b[0m: name 'engine' is not defined"
     ]
    }
   ],
>>>>>>> b6c85d893015c7e8d371a77ee99a34a0e91e4d45
   "source": [
    "# reflect an exisiting database into a new model\n",
    "Base = automap_base()\n",
    "# reflect the tables\n",
    "Base.prepare(engine, reflect=True)"
   ]
  },
  {
   "cell_type": "code",
<<<<<<< HEAD
   "execution_count": 6,
=======
   "execution_count": 8,
>>>>>>> b6c85d893015c7e8d371a77ee99a34a0e91e4d45
   "metadata": {},
   "outputs": [
    {
     "data": {
      "text/plain": [
<<<<<<< HEAD
       "['measurement', 'station']"
      ]
     },
     "execution_count": 6,
=======
       "[]"
      ]
     },
     "execution_count": 8,
>>>>>>> b6c85d893015c7e8d371a77ee99a34a0e91e4d45
     "metadata": {},
     "output_type": "execute_result"
    }
   ],
   "source": [
    "# We can view all of the classes that automap found\n",
    "Base.classes.keys()"
   ]
  },
  {
   "cell_type": "code",
<<<<<<< HEAD
   "execution_count": 7,
=======
   "execution_count": null,
>>>>>>> b6c85d893015c7e8d371a77ee99a34a0e91e4d45
   "metadata": {
    "collapsed": true
   },
   "outputs": [],
   "source": [
    "# Save references to each table\n",
<<<<<<< HEAD
    "Measurement = Base.classes.measurement\n",
=======
    "Measurement = Base.classes.measurements\n",
>>>>>>> b6c85d893015c7e8d371a77ee99a34a0e91e4d45
    "Station = Base.classes.station"
   ]
  },
  {
   "cell_type": "code",
<<<<<<< HEAD
   "execution_count": 8,
=======
   "execution_count": null,
>>>>>>> b6c85d893015c7e8d371a77ee99a34a0e91e4d45
   "metadata": {
    "collapsed": true
   },
   "outputs": [],
   "source": [
    "# Create our session(link) from Python to the DB\n",
    "session = Session(engine)"
   ]
  },
  {
   "cell_type": "markdown",
   "metadata": {},
   "source": [
    "## Exploratory Climate Analysis"
   ]
  },
  {
   "cell_type": "code",
<<<<<<< HEAD
=======
   "execution_count": 3,
   "metadata": {
    "collapsed": true
   },
   "outputs": [],
   "source": [
    "# Design a query to retrieve the last 12 months of precipitation data and plot the results\n",
    "# Calculate the date 1 year ago from today\n",
    "prev_year = dt.date.today() - dt.timedelta(days=365)"
   ]
  },
  {
   "cell_type": "code",
>>>>>>> b6c85d893015c7e8d371a77ee99a34a0e91e4d45
   "execution_count": 9,
   "metadata": {},
   "outputs": [
    {
<<<<<<< HEAD
     "data": {
      "text/plain": [
       "<function matplotlib.pyplot.show>"
      ]
     },
     "execution_count": 9,
     "metadata": {},
     "output_type": "execute_result"
    }
   ],
   "source": [
    "# Design a query to retrieve the last 12 months of precipitation data and plot the results\n",
    "# Calculate the date 1 year ago from today\n",
    "prev_year = dt.date.today() - dt.timedelta(days=365)\n",
    "\n",
    "# Perform a query to retrieve the data and precipitation scores\n",
    "results = session.query(Measurement.date, Measurement.prcp).filter(Measurement.date >= prev_year).all()\n",
    "\n",
    "# Perform a query to retrieve the data and precipitation scores\n",
    "results = session.query(Measurement.date, Measurement.prcp).filter(Measurement.date >= prev_year).all()\n",
    "\n",
    "# Save the query results as a Pandas DataFrame and set the index to the data column\n",
    "df = pd.DataFrame(results, columns=['date','precipitation'])\n",
    "df.set_index(df['date'], inplace=True)\n",
    "\n",
    "# Use Pandas Plotting with Matplotlib to plot the data\n",
    "df.plot(x_compat=True)\n",
    "\n",
=======
     "ename": "NameError",
     "evalue": "name 'session' is not defined",
     "output_type": "error",
     "traceback": [
      "\u001b[1;31m---------------------------------------------------------------------------\u001b[0m",
      "\u001b[1;31mNameError\u001b[0m                                 Traceback (most recent call last)",
      "\u001b[1;32m<ipython-input-9-da171ed08ba1>\u001b[0m in \u001b[0;36m<module>\u001b[1;34m()\u001b[0m\n\u001b[0;32m      1\u001b[0m \u001b[1;31m# Perform a query to retrieve the data and precipitation scores\u001b[0m\u001b[1;33m\u001b[0m\u001b[1;33m\u001b[0m\u001b[0m\n\u001b[1;32m----> 2\u001b[1;33m \u001b[0mresults\u001b[0m \u001b[1;33m=\u001b[0m \u001b[0msession\u001b[0m\u001b[1;33m.\u001b[0m\u001b[0mquery\u001b[0m\u001b[1;33m(\u001b[0m\u001b[0mMeasurement\u001b[0m\u001b[1;33m.\u001b[0m\u001b[0mdate\u001b[0m\u001b[1;33m,\u001b[0m \u001b[0mMeasurement\u001b[0m\u001b[1;33m.\u001b[0m\u001b[0mprcp\u001b[0m\u001b[1;33m)\u001b[0m\u001b[1;33m.\u001b[0m\u001b[0mfilter\u001b[0m\u001b[1;33m(\u001b[0m\u001b[0mMeasurements\u001b[0m\u001b[1;33m.\u001b[0m\u001b[0mdate\u001b[0m \u001b[1;33m>=\u001b[0m \u001b[0mprev_year\u001b[0m\u001b[1;33m)\u001b[0m\u001b[1;33m.\u001b[0m\u001b[0mall\u001b[0m\u001b[1;33m(\u001b[0m\u001b[1;33m)\u001b[0m\u001b[1;33m\u001b[0m\u001b[0m\n\u001b[0m",
      "\u001b[1;31mNameError\u001b[0m: name 'session' is not defined"
     ]
    }
   ],
   "source": [
    "# Perform a query to retrieve the data and precipitation scores\n",
    "results = session.query(Measurement.date, \n",
    "Measurement.prcp).filter(Measurements.date >= prev_year).all()"
   ]
  },
  {
   "cell_type": "code",
   "execution_count": 5,
   "metadata": {
    "collapsed": true
   },
   "outputs": [],
   "source": [
    "# Save the query results as a Pandas DataFrame and set the index to the data column\n",
    "df = pd.DataFrame(results, columns=['date','precipitation'])\n",
    "df.set_index(df['date'], inplace=True)"
   ]
  },
  {
   "cell_type": "code",
   "execution_count": null,
   "metadata": {
    "collapsed": true
   },
   "outputs": [],
   "source": [
    "# Use Pandas Plotting with Matplotlib to plot the data\n",
    "df.plot(x_compat=True)"
   ]
  },
  {
   "cell_type": "code",
   "execution_count": null,
   "metadata": {
    "collapsed": true
   },
   "outputs": [],
   "source": [
>>>>>>> b6c85d893015c7e8d371a77ee99a34a0e91e4d45
    "# Rotate the xticks for the dates\n",
    "plt.xticks(rotation='45')\n",
    "plt.tight_layout()\n",
    "plt.show"
   ]
  },
  {
   "cell_type": "code",
<<<<<<< HEAD
   "execution_count": 10,
   "metadata": {},
   "outputs": [
    {
     "data": {
      "text/html": [
       "<div>\n",
       "<style>\n",
       "    .dataframe thead tr:only-child th {\n",
       "        text-align: right;\n",
       "    }\n",
       "\n",
       "    .dataframe thead th {\n",
       "        text-align: left;\n",
       "    }\n",
       "\n",
       "    .dataframe tbody tr th {\n",
       "        vertical-align: top;\n",
       "    }\n",
       "</style>\n",
       "<table border=\"1\" class=\"dataframe\">\n",
       "  <thead>\n",
       "    <tr style=\"text-align: right;\">\n",
       "      <th></th>\n",
       "      <th>precipitation</th>\n",
       "    </tr>\n",
       "  </thead>\n",
       "  <tbody>\n",
       "    <tr>\n",
       "      <th>count</th>\n",
       "      <td>1205.000000</td>\n",
       "    </tr>\n",
       "    <tr>\n",
       "      <th>mean</th>\n",
       "      <td>0.172456</td>\n",
       "    </tr>\n",
       "    <tr>\n",
       "      <th>std</th>\n",
       "      <td>0.463801</td>\n",
       "    </tr>\n",
       "    <tr>\n",
       "      <th>min</th>\n",
       "      <td>0.000000</td>\n",
       "    </tr>\n",
       "    <tr>\n",
       "      <th>25%</th>\n",
       "      <td>0.000000</td>\n",
       "    </tr>\n",
       "    <tr>\n",
       "      <th>50%</th>\n",
       "      <td>0.010000</td>\n",
       "    </tr>\n",
       "    <tr>\n",
       "      <th>75%</th>\n",
       "      <td>0.120000</td>\n",
       "    </tr>\n",
       "    <tr>\n",
       "      <th>max</th>\n",
       "      <td>6.250000</td>\n",
       "    </tr>\n",
       "  </tbody>\n",
       "</table>\n",
       "</div>"
      ],
      "text/plain": [
       "       precipitation\n",
       "count    1205.000000\n",
       "mean        0.172456\n",
       "std         0.463801\n",
       "min         0.000000\n",
       "25%         0.000000\n",
       "50%         0.010000\n",
       "75%         0.120000\n",
       "max         6.250000"
      ]
     },
     "execution_count": 10,
     "metadata": {},
     "output_type": "execute_result"
    }
   ],
=======
   "execution_count": null,
   "metadata": {
    "collapsed": true
   },
   "outputs": [],
>>>>>>> b6c85d893015c7e8d371a77ee99a34a0e91e4d45
   "source": [
    "# Use Pandas to calculate the summary statistics for the precipitation data\n",
    "df.describe()"
   ]
  },
  {
   "cell_type": "code",
<<<<<<< HEAD
   "execution_count": 11,
   "metadata": {},
   "outputs": [
    {
     "data": {
      "text/plain": [
       "[(9)]"
      ]
     },
     "execution_count": 11,
     "metadata": {},
     "output_type": "execute_result"
=======
   "execution_count": 10,
   "metadata": {},
   "outputs": [
    {
     "ename": "NameError",
     "evalue": "name 'session' is not defined",
     "output_type": "error",
     "traceback": [
      "\u001b[1;31m---------------------------------------------------------------------------\u001b[0m",
      "\u001b[1;31mNameError\u001b[0m                                 Traceback (most recent call last)",
      "\u001b[1;32m<ipython-input-10-6b1eb2af1b91>\u001b[0m in \u001b[0;36m<module>\u001b[1;34m()\u001b[0m\n\u001b[0;32m      1\u001b[0m \u001b[1;31m# How many stations are available in this dataset?\u001b[0m\u001b[1;33m\u001b[0m\u001b[1;33m\u001b[0m\u001b[0m\n\u001b[1;32m----> 2\u001b[1;33m \u001b[0msession\u001b[0m\u001b[1;33m.\u001b[0m\u001b[0mquery\u001b[0m\u001b[1;33m(\u001b[0m\u001b[0mfunc\u001b[0m\u001b[1;33m.\u001b[0m\u001b[0mcount\u001b[0m\u001b[1;33m(\u001b[0m\u001b[0mStation\u001b[0m\u001b[1;33m.\u001b[0m\u001b[0mstation\u001b[0m\u001b[1;33m)\u001b[0m\u001b[1;33m)\u001b[0m\u001b[1;33m.\u001b[0m\u001b[0mall\u001b[0m\u001b[1;33m(\u001b[0m\u001b[1;33m)\u001b[0m\u001b[1;33m\u001b[0m\u001b[0m\n\u001b[0m",
      "\u001b[1;31mNameError\u001b[0m: name 'session' is not defined"
     ]
>>>>>>> b6c85d893015c7e8d371a77ee99a34a0e91e4d45
    }
   ],
   "source": [
    "# How many stations are available in this dataset?\n",
    "session.query(func.count(Station.station)).all()"
   ]
  },
  {
   "cell_type": "code",
<<<<<<< HEAD
   "execution_count": 12,
   "metadata": {},
   "outputs": [
    {
     "data": {
      "text/plain": [
       "[('USC00519281', 2772),\n",
       " ('USC00519397', 2724),\n",
       " ('USC00513117', 2709),\n",
       " ('USC00519523', 2669),\n",
       " ('USC00516128', 2612),\n",
       " ('USC00514830', 2202),\n",
       " ('USC00511918', 1979),\n",
       " ('USC00517948', 1372),\n",
       " ('USC00518838', 511)]"
      ]
     },
     "execution_count": 12,
     "metadata": {},
     "output_type": "execute_result"
    }
   ],
   "source": [
    "# What are the most active stations?\n",
    "# List the stations and the counts in descending order?\n",
    "session.query(Measurement.station,\n",
    "func.count(Measurement.station)).\\\n",
=======
   "execution_count": null,
   "metadata": {
    "collapsed": true
   },
   "outputs": [],
   "source": [
    "# What are the most active stations?\n",
    "# List the stations and the counts in descending order?\n",
    "session.query(Measurement.station, func.count(Measurement.station)).\\\n",
>>>>>>> b6c85d893015c7e8d371a77ee99a34a0e91e4d45
    "group_by(Measurement.station).order_by(func.count(Measurement.station).desc()).all()"
   ]
  },
  {
   "cell_type": "code",
<<<<<<< HEAD
   "execution_count": 13,
   "metadata": {},
   "outputs": [
    {
     "data": {
      "text/plain": [
       "[(54.0, 85.0, 71.66378066378067)]"
      ]
     },
     "execution_count": 13,
     "metadata": {},
     "output_type": "execute_result"
=======
   "execution_count": 11,
   "metadata": {},
   "outputs": [
    {
     "ename": "NameError",
     "evalue": "name 'session' is not defined",
     "output_type": "error",
     "traceback": [
      "\u001b[1;31m---------------------------------------------------------------------------\u001b[0m",
      "\u001b[1;31mNameError\u001b[0m                                 Traceback (most recent call last)",
      "\u001b[1;32m<ipython-input-11-1fb073ff600c>\u001b[0m in \u001b[0;36m<module>\u001b[1;34m()\u001b[0m\n\u001b[0;32m      1\u001b[0m \u001b[1;31m# Using the station id from the previous query, calculate the lowest temperature recorded,\u001b[0m\u001b[1;33m\u001b[0m\u001b[1;33m\u001b[0m\u001b[0m\n\u001b[0;32m      2\u001b[0m \u001b[1;31m# highest temperature recorded, and average temperature most active station?\u001b[0m\u001b[1;33m\u001b[0m\u001b[1;33m\u001b[0m\u001b[0m\n\u001b[1;32m----> 3\u001b[1;33m session.query(func.min(Measurement.tobs),\n\u001b[0m\u001b[0;32m      4\u001b[0m func.max(Measurement.tobs), func.avg(Measurement.tobs)).\\\n\u001b[0;32m      5\u001b[0m     \u001b[0mfilter\u001b[0m\u001b[1;33m(\u001b[0m\u001b[0mMeasurement\u001b[0m\u001b[1;33m.\u001b[0m\u001b[0mstation\u001b[0m \u001b[1;33m==\u001b[0m \u001b[1;34m''\u001b[0m\u001b[1;33m)\u001b[0m\u001b[1;33m.\u001b[0m\u001b[0mall\u001b[0m\u001b[1;33m(\u001b[0m\u001b[1;33m)\u001b[0m\u001b[1;33m\u001b[0m\u001b[0m\n",
      "\u001b[1;31mNameError\u001b[0m: name 'session' is not defined"
     ]
>>>>>>> b6c85d893015c7e8d371a77ee99a34a0e91e4d45
    }
   ],
   "source": [
    "# Using the station id from the previous query, calculate the lowest temperature recorded,\n",
    "# highest temperature recorded, and average temperature most active station?\n",
    "session.query(func.min(Measurement.tobs),\n",
    "func.max(Measurement.tobs), func.avg(Measurement.tobs)).\\\n",
<<<<<<< HEAD
    "    filter(Measurement.station == 'USC00519281').all()"
=======
    "    filter(Measurement.station == 'USCO00519281').all()"
>>>>>>> b6c85d893015c7e8d371a77ee99a34a0e91e4d45
   ]
  },
  {
   "cell_type": "code",
<<<<<<< HEAD
   "execution_count": 14,
   "metadata": {},
   "outputs": [
    {
     "data": {
      "image/png": "iVBORw0KGgoAAAANSUhEUgAAAagAAAEYCAYAAAAJeGK1AAAABHNCSVQICAgIfAhkiAAAAAlwSFlz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\nDpc+R3LhAAAAAElFTkSuQmCC\n",
      "text/plain": [
       "<matplotlib.figure.Figure at 0x2187eb520f0>"
      ]
     },
     "metadata": {},
     "output_type": "display_data"
    },
    {
     "data": {
      "image/png": "iVBORw0KGgoAAAANSUhEUgAAAagAAAEYCAYAAAAJeGK1AAAABHNCSVQICAgIfAhkiAAAAAlwSFlz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\nkgElSWqSASVJapIBJUlqkgElSWrS/wdu/qTdMhq6CgAAAABJRU5ErkJggg==\n",
      "text/plain": [
       "<matplotlib.figure.Figure at 0x2187f01bba8>"
      ]
     },
     "metadata": {},
     "output_type": "display_data"
    }
   ],
=======
   "execution_count": null,
   "metadata": {
    "collapsed": true
   },
   "outputs": [],
>>>>>>> b6c85d893015c7e8d371a77ee99a34a0e91e4d45
   "source": [
    "# Choose the station with the highest number of temperature observations.\n",
    "# Query the last 12 months of temperature observation data for this station and plot the results as a histogram\n",
    "import datetime as dt\n",
    "from pandas.plotting import table\n",
    "prev_year = dt.date.today() - dt.timedelta(days=365)\n",
    "\n",
    "results = session.query(Measurement.tobs).\\\n",
<<<<<<< HEAD
    "    filter(Measurement.station == 'USC00519281').\\\n",
    "    filter(Measurement.date >= prev_year).all()\n",
=======
    "    filter(Measurements.station == '').\\\n",
    "    filter(Measurements.data >= prev_year).all()\n",
>>>>>>> b6c85d893015c7e8d371a77ee99a34a0e91e4d45
    "df = pd.DataFrame(results, columns=['tobs'])\n",
    "df.plot.hist(bins=12)\n",
    "plt.tight_layout()\n",
    "plt.show()"
   ]
  },
  {
   "cell_type": "code",
<<<<<<< HEAD
   "execution_count": 15,
   "metadata": {},
   "outputs": [
    {
     "name": "stdout",
     "output_type": "stream",
     "text": [
      "[(62.0, 69.57142857142857, 74.0)]\n"
     ]
    }
   ],
=======
   "execution_count": null,
   "metadata": {
    "collapsed": true
   },
   "outputs": [],
>>>>>>> b6c85d893015c7e8d371a77ee99a34a0e91e4d45
   "source": [
    "# Write a function called 'calc_temps' that will accept start date and end date ni the format '%Y-%m-%d'\n",
    "# and return the minimum, average, and maximum temperatures for that range of dates\n",
    "def calc_temps(start_date, end_date):\n",
    "    \"\"\"TMIN, TAVG, and TMAX for a list of dates\n",
    "    Args:\n",
    "        start_date (string): A date string in the format %Y-%m-%d\n",
    "        end_date (string): A date string in the format \n",
    "        \n",
    "    Returns:\n",
    "        TMIN, TAVE, and TMAX\n",
    "    \"\"\"\n",
    "    return session.query(func.min(Measurement.tobs),\n",
    "func.avg(Measurement.tobs), func.max(Measurement.tobs)).\\\n",
    "    filter(Measurement.date >=\n",
    "start_date).filter(Measurement.date <= end_date).all()\n",
<<<<<<< HEAD
    "print(calc_temps('2012-02-28','2012-03-05'))"
=======
    "print(calc_temps('',''))"
>>>>>>> b6c85d893015c7e8d371a77ee99a34a0e91e4d45
   ]
  },
  {
   "cell_type": "code",
<<<<<<< HEAD
   "execution_count": 16,
   "metadata": {},
   "outputs": [
    {
     "name": "stdout",
     "output_type": "stream",
     "text": [
      "62.0 68.36585365853658 74.0\n"
=======
   "execution_count": 12,
   "metadata": {},
   "outputs": [
    {
     "ename": "NameError",
     "evalue": "name 'calc_temps' is not defined",
     "output_type": "error",
     "traceback": [
      "\u001b[1;31m---------------------------------------------------------------------------\u001b[0m",
      "\u001b[1;31mNameError\u001b[0m                                 Traceback (most recent call last)",
      "\u001b[1;32m<ipython-input-12-ba118f9cc18b>\u001b[0m in \u001b[0;36m<module>\u001b[1;34m()\u001b[0m\n\u001b[0;32m      5\u001b[0m \u001b[0mprev_year_end\u001b[0m \u001b[1;33m=\u001b[0m \u001b[0mdt\u001b[0m\u001b[1;33m.\u001b[0m\u001b[0mdate\u001b[0m\u001b[1;33m(\u001b[0m\u001b[1;36m2018\u001b[0m\u001b[1;33m,\u001b[0m \u001b[1;36m1\u001b[0m\u001b[1;33m,\u001b[0m \u001b[1;36m7\u001b[0m\u001b[1;33m)\u001b[0m \u001b[1;33m-\u001b[0m \u001b[0mdt\u001b[0m\u001b[1;33m.\u001b[0m\u001b[0mtimedelta\u001b[0m\u001b[1;33m(\u001b[0m\u001b[0mdays\u001b[0m\u001b[1;33m=\u001b[0m\u001b[1;36m365\u001b[0m\u001b[1;33m)\u001b[0m\u001b[1;33m\u001b[0m\u001b[0m\n\u001b[0;32m      6\u001b[0m \u001b[1;33m\u001b[0m\u001b[0m\n\u001b[1;32m----> 7\u001b[1;33m \u001b[0mtmin\u001b[0m\u001b[1;33m,\u001b[0m \u001b[0mtavg\u001b[0m\u001b[1;33m,\u001b[0m \u001b[0mtmax\u001b[0m \u001b[1;33m=\u001b[0m \u001b[0mcalc_temps\u001b[0m\u001b[1;33m(\u001b[0m\u001b[0mprev_year_start\u001b[0m\u001b[1;33m.\u001b[0m\u001b[0mstrfttime\u001b[0m\u001b[1;33m(\u001b[0m\u001b[1;34m\"\"\u001b[0m\u001b[1;33m)\u001b[0m\u001b[1;33m,\u001b[0m\u001b[1;33m)\u001b[0m\u001b[1;33m\u001b[0m\u001b[0m\n\u001b[0m\u001b[0;32m      8\u001b[0m \u001b[0mprint\u001b[0m\u001b[1;33m(\u001b[0m\u001b[0mtmin\u001b[0m\u001b[1;33m,\u001b[0m\u001b[0mtavg\u001b[0m\u001b[1;33m,\u001b[0m\u001b[0mtmax\u001b[0m\u001b[1;33m)\u001b[0m\u001b[1;33m\u001b[0m\u001b[0m\n",
      "\u001b[1;31mNameError\u001b[0m: name 'calc_temps' is not defined"
>>>>>>> b6c85d893015c7e8d371a77ee99a34a0e91e4d45
     ]
    }
   ],
   "source": [
    "# Use your previous function 'calc_temps' to calculate the tmin, tavg, and tmax\n",
    "# for your trip using the previous year's data for those same dates.\n",
    "import datetime as dt\n",
    "\n",
    "prev_year_start = dt.date(2018, 1, 1) - dt.timedelta(days=365)\n",
    "prev_year_end = dt.date(2018, 1, 7) - dt.timedelta(days=365)\n",
    "\n",
<<<<<<< HEAD
    "tmin, tavg, tmax = calc_temps(prev_year_start.strftime(\"%Y-%m-%d\"),\n",
=======
    "tmin, tavg, tmax = calc_temps(prev_year_start.strfttime(\"%Y-%m-%d\"),\n",
>>>>>>> b6c85d893015c7e8d371a77ee99a34a0e91e4d45
    "prev_year_end.strftime(\"%Y-%m-%d\"))[0]\n",
    "print(tmin, tavg, tmax)"
   ]
  },
  {
   "cell_type": "code",
<<<<<<< HEAD
   "execution_count": 33,
   "metadata": {},
   "outputs": [
    {
     "name": "stderr",
     "output_type": "stream",
     "text": [
      "C:\\Users\\Abe\\Anaconda2\\envs\\PythonData\\lib\\site-packages\\matplotlib\\figure.py:403: UserWarning: matplotlib is currently using a non-GUI backend, so cannot show the figure\n",
      "  \"matplotlib is currently using a non-GUI backend, \"\n"
     ]
    }
   ],
=======
   "execution_count": null,
   "metadata": {
    "collapsed": true
   },
   "outputs": [],
>>>>>>> b6c85d893015c7e8d371a77ee99a34a0e91e4d45
   "source": [
    "# PLot the results from your previous query as a bar chart\n",
    "# Use \"Trip Avg Temp\" as your Title\n",
    "# Use the average temperature for the y value\n",
    "# Use the peak-to-peak (tmax-tmin) value as the y error bar (yerr)\n",
    "fig, ax = plt.subplots(figsize=plt.figaspect(2.))\n",
    "xpos = 1\n",
    "yerr = tmax - tmin\n",
    "\n",
    "bar = ax.bar(xpos, tmax, yerr=yerr, alpha=0.5, color='coral',\n",
    "align=\"center\")\n",
    "ax.set(xticks=range(xpos), xticklabels=\"a\", title=\"Trip Avg. Temp\", ylabel=\"Temp (F)\")\n",
    "ax.margins(.2,.2)\n",
<<<<<<< HEAD
    "\n",
=======
>>>>>>> b6c85d893015c7e8d371a77ee99a34a0e91e4d45
    "# fig.autoformat_xdate()\n",
    "fig.tight_layout()\n",
    "fig.show()"
   ]
  },
  {
   "cell_type": "code",
<<<<<<< HEAD
   "execution_count": 34,
   "metadata": {},
   "outputs": [
    {
     "ename": "SyntaxError",
     "evalue": "invalid syntax (<ipython-input-34-a55a5b528a3a>, line 10)",
     "output_type": "error",
     "traceback": [
      "\u001b[1;36m  File \u001b[1;32m\"<ipython-input-34-a55a5b528a3a>\"\u001b[1;36m, line \u001b[1;32m10\u001b[0m\n\u001b[1;33m    results = session.query(*sel).    filter(Measurement.station == Station.station).    filter(Measurement.date >= start_date).    filter(Measurement.date <= end_date).\u001b[0m\n\u001b[1;37m                                                                                                                                                                             ^\u001b[0m\n\u001b[1;31mSyntaxError\u001b[0m\u001b[1;31m:\u001b[0m invalid syntax\n"
     ]
    }
   ],
=======
   "execution_count": null,
   "metadata": {
    "collapsed": true
   },
   "outputs": [],
>>>>>>> b6c85d893015c7e8d371a77ee99a34a0e91e4d45
   "source": [
    "# Calculate the rainfall per weather station for your trip dates using the previous year's matching dates\n",
    "# Sort this in descending order by precipitation amount and list the station, name, latitude, longitude, and elevation\n",
    "start_date = '2012-01-01'\n",
    "end_date = '2012-01-07'\n",
    "\n",
<<<<<<< HEAD
    "sel = [Station.station, Station.name, Station.latitude,\n",
    "       Station.longtitude, Station.elevation,\n",
    "func.sum(Measurement.prcp)]\n",
=======
    "sel = [Station.station, Station.name, Station.latitude, Station.longtitude, Station.elevation,func.sum(Measurement.prcp)]\n",
>>>>>>> b6c85d893015c7e8d371a77ee99a34a0e91e4d45
    "\n",
    "results = session.query(*sel).\\\n",
    "    filter(Measurement.station == Station.station).\\\n",
    "    filter(Measurement.date >= start_date).\\\n",
<<<<<<< HEAD
    "    filter(Measurement.date <= end_date).\\\n",
=======
    "    filter(MEasurement.date <= end_date).\\\n",
>>>>>>> b6c85d893015c7e8d371a77ee99a34a0e91e4d45
    "    \n",
    "group_by(Station.name).order_by(func.sum(Measurement.prcp).desc()).all()\n",
    "print(results)"
   ]
  },
  {
   "cell_type": "code",
<<<<<<< HEAD
   "execution_count": 35,
   "metadata": {},
   "outputs": [
    {
     "ename": "SyntaxError",
     "evalue": "invalid syntax (<ipython-input-35-b75e9f634c5a>, line 8)",
     "output_type": "error",
     "traceback": [
      "\u001b[1;36m  File \u001b[1;32m\"<ipython-input-35-b75e9f634c5a>\"\u001b[1;36m, line \u001b[1;32m8\u001b[0m\n\u001b[1;33m    results = session.query(*sel).    filter(Measurement.station == Station.station).    filter(Measurement.date >= start_date).    filter(Measurement.date <= end_date).\u001b[0m\n\u001b[1;37m                                                                                                                                                                         ^\u001b[0m\n\u001b[1;31mSyntaxError\u001b[0m\u001b[1;31m:\u001b[0m invalid syntax\n"
     ]
    }
   ],
   "source": [
    "start_date = '2012-01-01'\n",
    "end_date = '2012-01-07'\n",
    "\n",
    "sel = [Station.station, Station.name, Station.latitude,\n",
    "      Station.longitude, Station.elevation,\n",
    "func.sum(Measurement.prcp)]\n",
    "\n",
    "results = session.query(*sel).\\\n",
    "    filter(Measurement.station == Station.station).\\\n",
    "    filter(Measurement.date >= start_date).\\\n",
    "    filter(Measurement.date <= end_date).\\\n",
    "\n",
    "group_by(Station.name).order_by(func.sum(Measurement.prcp).desc()).all()\n",
    "print(results)"
   ]
  },
  {
   "cell_type": "code",
   "execution_count": 40,
=======
   "execution_count": null,
>>>>>>> b6c85d893015c7e8d371a77ee99a34a0e91e4d45
   "metadata": {
    "collapsed": true
   },
   "outputs": [],
   "source": [
    "# Create a query that will calculate the daily normals\n",
    "# (i.e. the averages for tmin, tmax, and tavg for all historic data matching a specific month and day)\n",
    "\n",
    "def daily_normals(date):\n",
<<<<<<< HEAD
    "    \"\"\"Daily Normals.\n",
    "    Args:\n",
    "        date (str): A date string in the format '%m-%d'\n",
    "    Returns:\n",
    "        A list of tuples containing the daily normals, tmin, tavg, and tmax\n",
    "    \"\"\" \n",
    "\n",
    "    sel = [func.min(Measurement.tobs),func.avg(Measurement.tobs),\n",
    "func.max(Measurement.tobs)]\n",
    "    return session.query(*sel).filter(func.strftime(\"%m-%d\",Measurement.date == date)).all()\n",
=======
    "    \n",
    "    \"\"\"Daily Normals.\n",
    "    \n",
    "    Args:\n",
    "        date (str): A date string in the format '%m-%d'\n",
    "    \n",
    "    Returns:\n",
    "        A list of tuples containing the daily normals, tmin, tavg, and tmax\n",
    "    \"\"\" \n",
    "    \n",
    "    sel = [func.min(Measurements.tobs),func.avg(Measurement.tobs),func.max(Measurement.tobs)]\n",
    "    return session.query(*sel).filter(func.strftime()).all()\n",
>>>>>>> b6c85d893015c7e8d371a77ee99a34a0e91e4d45
    "\n",
    "    daily_normals(\"01-01\")"
   ]
  },
  {
   "cell_type": "code",
<<<<<<< HEAD
   "execution_count": 37,
   "metadata": {},
   "outputs": [
    {
     "data": {
      "text/plain": [
       "[(53.0, 73.09795396419437, 87.0),\n",
       " (53.0, 73.09795396419437, 87.0),\n",
       " (53.0, 73.09795396419437, 87.0),\n",
       " (53.0, 73.09795396419437, 87.0),\n",
       " (53.0, 73.09795396419437, 87.0),\n",
       " (53.0, 73.09795396419437, 87.0),\n",
       " (53.0, 73.09795396419437, 87.0)]"
      ]
     },
     "execution_count": 37,
     "metadata": {},
     "output_type": "execute_result"
    }
   ],
=======
   "execution_count": null,
   "metadata": {
    "collapsed": true
   },
   "outputs": [],
>>>>>>> b6c85d893015c7e8d371a77ee99a34a0e91e4d45
   "source": [
    "# calculate the daily normals for your trip\n",
    "# push each tuple of calculations into a list called 'normals'\n",
    "\n",
    "# Set the start and end date of the trip\n",
<<<<<<< HEAD
    "trip_start = '2018-01-01'\n",
    "trip_end = '2018-01-07'\n",
=======
    "trip_start = ''\n",
    "trip_end = ''\n",
>>>>>>> b6c85d893015c7e8d371a77ee99a34a0e91e4d45
    "\n",
    "# Use the start and end date to create a range of dates\n",
    "trip_dates = pd.date_range(trip_start, trip_end, freq='D')\n",
    "\n",
    "# Stip off the year and save a list of %m-%d strings\n",
    "trip_month_day = trip_dates.strftime('%m-%d')\n",
    "\n",
    "# Loop through the list of %m-%d strings and calculate the normals for each date\n",
    "normals = []\n",
    "for date in trip_month_day:\n",
    "    normals.append(*daily_normals(date))\n",
    "normals"
   ]
  },
  {
   "cell_type": "code",
<<<<<<< HEAD
   "execution_count": 38,
   "metadata": {},
   "outputs": [
    {
     "data": {
      "text/html": [
       "<div>\n",
       "<style>\n",
       "    .dataframe thead tr:only-child th {\n",
       "        text-align: right;\n",
       "    }\n",
       "\n",
       "    .dataframe thead th {\n",
       "        text-align: left;\n",
       "    }\n",
       "\n",
       "    .dataframe tbody tr th {\n",
       "        vertical-align: top;\n",
       "    }\n",
       "</style>\n",
       "<table border=\"1\" class=\"dataframe\">\n",
       "  <thead>\n",
       "    <tr style=\"text-align: right;\">\n",
       "      <th></th>\n",
       "      <th>tmin</th>\n",
       "      <th>tavg</th>\n",
       "      <th>tmax</th>\n",
       "    </tr>\n",
       "    <tr>\n",
       "      <th>date</th>\n",
       "      <th></th>\n",
       "      <th></th>\n",
       "      <th></th>\n",
       "    </tr>\n",
       "  </thead>\n",
       "  <tbody>\n",
       "    <tr>\n",
       "      <th>2018-01-01</th>\n",
       "      <td>53.0</td>\n",
       "      <td>73.097954</td>\n",
       "      <td>87.0</td>\n",
       "    </tr>\n",
       "    <tr>\n",
       "      <th>2018-01-02</th>\n",
       "      <td>53.0</td>\n",
       "      <td>73.097954</td>\n",
       "      <td>87.0</td>\n",
       "    </tr>\n",
       "    <tr>\n",
       "      <th>2018-01-03</th>\n",
       "      <td>53.0</td>\n",
       "      <td>73.097954</td>\n",
       "      <td>87.0</td>\n",
       "    </tr>\n",
       "    <tr>\n",
       "      <th>2018-01-04</th>\n",
       "      <td>53.0</td>\n",
       "      <td>73.097954</td>\n",
       "      <td>87.0</td>\n",
       "    </tr>\n",
       "    <tr>\n",
       "      <th>2018-01-05</th>\n",
       "      <td>53.0</td>\n",
       "      <td>73.097954</td>\n",
       "      <td>87.0</td>\n",
       "    </tr>\n",
       "  </tbody>\n",
       "</table>\n",
       "</div>"
      ],
      "text/plain": [
       "            tmin       tavg  tmax\n",
       "date                             \n",
       "2018-01-01  53.0  73.097954  87.0\n",
       "2018-01-02  53.0  73.097954  87.0\n",
       "2018-01-03  53.0  73.097954  87.0\n",
       "2018-01-04  53.0  73.097954  87.0\n",
       "2018-01-05  53.0  73.097954  87.0"
      ]
     },
     "execution_count": 38,
     "metadata": {},
     "output_type": "execute_result"
    }
   ],
=======
   "execution_count": null,
   "metadata": {
    "collapsed": true
   },
   "outputs": [],
>>>>>>> b6c85d893015c7e8d371a77ee99a34a0e91e4d45
   "source": [
    "# Load the previous query results into a Pandas DataFrame and add the 'trip_dates' range as the 'date' index\n",
    "df = pd.DataFrame(normals, columns=['tmin','tavg','tmax'])\n",
    "df['date'] = trip_dates\n",
    "df.set_index(['date'], inplace=True)\n",
    "df.head()"
   ]
  },
  {
   "cell_type": "code",
<<<<<<< HEAD
   "execution_count": 39,
   "metadata": {},
   "outputs": [
    {
     "data": {
      "image/png": "iVBORw0KGgoAAAANSUhEUgAAARgAAAI4CAYAAACxyvYnAAAABHNCSVQICAgIfAhkiAAAAAlwSFlz\nAAALEgAACxIB0t1+/AAAFGJJREFUeJzt3XuQnQV5x/HvTyIq4oXINkZQgyNV8YKXjPU+KLReagVr\nRbBq2lJpZ6yidmqhrXVoa5WO2lK1OlSs6eANLyOgtohRx2KnShCtIlqoioKBrOIVFUGe/nHe0ANm\nN5vNPudkN9/PzM4573ves+dJJvnO+7777jmpKiSpw62mPYCklcvASGpjYCS1MTCS2hgYSW0MjKQ2\nBmYPleTlSd487Tm0shmYFSDJj8a+bkzyk7Hl397ec6rqr6vqD3fxdf8mSSV52K58nwW+1r1u8ees\nJNeOLT+yewbtvHih3cqS5OvA71fVR+fZZlVV3bCLrxPg68C+wBlVdcKufL+dfO1VwPXAQVX19Um9\nrnaeezB7gGFP491J3pnkh8BzhnVvGx6/97BH8Pwk3xq+XrKDb/t4YH/gxcCzk9x6+F63S/KDJPcd\ne/27DntVdxmWT0pyVZIrh9esJOuW4M+5T5LXJ7kiyZYkpybZe3jsqUm+nOQVSb4zbPPEJL+Z5H+H\ndSeMfa/XJDkjyQeS/DDJp5Pcb1dn3NMYmD3H04F3AHcC3j3HNo8D7g08GfiLJIfN8/02AGcBZwK3\nBp4CUFU/AT4AHDu27bOATVX1nSRPBV7IKFC/DDxhkX+e7TkV+CXg/sD9hts/GXv83sC1wBrgtcDb\ngCOBBwFPBE5Jctex7Z8J/DOwGvgw8N4k/p/ZCf5l7TnOr6pzqurGIQLbc3JV/biqPg9s5OaRuEmS\nfYFnAO+oquuA9wHPG9vkHbd47rOHdQBHA6dX1SVVdS1w8uL/SDebaW/gd4AXVdX3q+p7wCnAMWOb\nfR947XB4+C7grsDfVdW1VbUZuBx4wNj2/1FVH6qq64G/BQ4ADl2KefcUq6Y9gCbmmzu5zeXAEXNs\n9wzgp8C5w/LbgX9LsrqqrgE+Ctx5OPn7PeAQRns7AHcDzt/JuRbiQEb/nr8yOj0EQIY5t5mt/z/p\nuC2yV489/hNG55R+Ybaquj7JFkbzX7REM694BmbPsZCz+XcHLhvu3wP41hzbbQDuCHxz+M8cYG9G\ney1vrKobkrxnWP4+cPawtwKwhVEMxl9zKXwL+Dmwbth7WQo3zTacWF7L3H8n2g4PkTTu5cNJ2gcy\nisgvnKtJck/gMEbnaR48fB3K6JzGLQ+TnsXND49gdM7muCT3SbIP8PKlGLyqfsrosO7UJHfJyD2S\nzLUXthCPTfLk4QT2SYzi+PmlmHdPYWA07nzgq8BHgFdV1ce2s81zgQuqalNVXbXti9EJ1oeN/fTo\nP4EbgJnh+wFQVecAbwI+CVwKfGp46Dq46QLAcxY5/wuBWeBCRntOHwbutcjvBfAe4A+A7wJPA36r\nqm7che+3x/E6GJHk3sClVZUdbrz0r/1A4LPAbXan/7xJXgPsu6sXI+7p3IPRxCV5epK9k6wGXg2c\ntTvFRUvHwGgaXgB8m9EJ5Z8Oy1qBPESS1MY9GEltlvV1MPvvv3+tW7du2mNIe5wLL7zw21U1s6Pt\nlnVg1q1bx+bNm6c9hrTHSXL5QrbzEElSGwMjqY2BkdTGwEhqY2AktTEwktoYGEltDIykNgZGUhsD\nI6mNgZHUxsBIatMWmCRvTbI1yRfH1q1Ocl6SS4fb/cYeOynJZUm+kuSJXXNJmpzOPZi3AU+6xboT\nGX3C38HApmGZJIcw+oCs+w/P+ackezXOJmkC2gJTVZ8ErrnF6iMZfbQEw+1RY+vfVVXXVdXXGL2V\n4sO7ZpM0GZM+B7OmqrYM969i9BnBMPpIzvFP+LtiWPcLkhyfZHOSzbOzs32TStplUzvJO3yE506/\nIXBVnVZV66tq/czMDt9QS9IUTTowVydZCzDcbh3WX8nNP0L0wGGdpGVs0oE5m9FHkjLcnjW2/pgk\nt0lyEHAw8JkJzyZpibW9J2+SdzL6DOP9k1wBvILRh2ydmeQ44HLgaICqujjJmcCXGH3c6Auq6udd\ns0majLbAVNWxczx0+BzbvxJ4Zdc8kibPK3kltTEwktoYGEltDIykNgZGUhsDI6mNgZHUxsBIamNg\nJLUxMJLaGBhJbQyMpDYGRlIbAyOpjYGR1MbASGpjYCS1MTCS2hgYSW0MjKQ2BkZSGwMjqY2BkdTG\nwEhqY2AktTEwktoYGEltDIykNgZGUhsDI6mNgZHUxsBIamNgJLUxMJLaGBhJbQyMpDYGRlIbAyOp\njYGR1MbASGpjYCS1MTCS2hgYSW0MjKQ2BkZSGwMjqY2BkdTGwEhqY2AktTEwktoYGEltDIykNgZG\nUhsDI6mNgZHUxsBIamNgJLUxMJLaGBhJbQyMpDYGRlIbAyOpjYGR1MbASGpjYCS1MTCS2hgYTcVh\nhx3GYYcdNu0x1MzASGpjYCS1MTCS2hgYSW0MjKQ2BkZSGwMjqY2BkdTGwEhqY2AktTEwktoYGElt\nDIykNgZGUhsDI6mNgZHUxsBIamNgJLUxMJLaGBhJbQyMpDYGRlIbAyOpjYGR1MbASGpjYCS1MTCS\n2kwlMElekuTiJF9M8s4kt02yOsl5SS4dbvebxmySls7EA5PkAOBFwPqqegCwF3AMcCKwqaoOBjYN\ny5KWsWkdIq0CbpdkFbAP8C3gSGDj8PhG4KgpzSZpiUw8MFV1JfAa4BvAFuD7VfURYE1VbRk2uwpY\ns73nJzk+yeYkm2dnZycys6TFmcYh0n6M9lYOAu4G3D7Jc8a3qaoCanvPr6rTqmp9Va2fmZlpn1fS\n4k3jEOkI4GtVNVtV1wPvBx4FXJ1kLcBwu3UKs0laQtMIzDeARyTZJ0mAw4FLgLOBDcM2G4CzpjCb\npCW0atIvWFWfTvJe4LPADcBFwGnAvsCZSY4DLgeOnvRskpbWxAMDUFWvAF5xi9XXMdqbkbRCeCWv\npDYGRlIbAyOpjYGR1MbASGpjYCS1MTCS2hgYSW0MjKQ2BkZSGwMjqY2BkdTGwEhqY2AktTEwktoY\nGEltDIykNgZGUhsDI6mNgZHUxsBIamNgJLUxMJLaGBhJbQyMpDZT+WTHFePj75r2BMvX97aObv07\nXJzHHzPtCRbEPRhJbQyMpDYGRlIbAyOpjYGR1MbASGpjYCS1MTCS2hgYSW0MjKQ2BkZSGwMjqY2B\nkdTGwEhqY2AktTEwktoYGEltDIykNgZGUhsDI6mNgZHUxsBIamNgJLUxMJLaGBhJbQyMpDYGRlIb\nAyOpjYGR1MbASGpjYCS1MTCS2hgYSW0MjKQ2BkZSGwMjqY2BkdTGwEhqY2AktTEwktoYGEltDIyk\nNgZGUhsDI6mNgZHUxsBIamNgJLUxMJLaGBhJbQyMpDYGRlIbAyOpjYGR1MbASGpjYCS1MTCS2hgY\nSW0MjKQ2BkZSGwMjqY2BkdRm1bQH0J7pE3//l9MeQRPgHoykNgZGUhsDI6mNgZHUxsBIamNgJLWZ\nSmCS3DnJe5N8OcklSR6ZZHWS85JcOtzuN43ZJC2dae3BnAr8e1XdFzgUuAQ4EdhUVQcDm4ZlScvY\nxAOT5E7A44DTAarqZ1X1PeBIYOOw2UbgqEnPJmlpTWMP5iBgFviXJBcleUuS2wNrqmrLsM1VwJrt\nPTnJ8Uk2J9k8Ozs7oZElLcY0ArMKeCjwpqp6CHAttzgcqqoCantPrqrTqmp9Va2fmZlpH1bS4k0j\nMFcAV1TVp4fl9zIKztVJ1gIMt1unMJukJTTxwFTVVcA3k9xnWHU48CXgbGDDsG4DcNakZ5O0tKb1\n29QvBN6eZG/gq8DvMordmUmOAy4Hjp7SbJKWyFQCU1WfA9Zv56HDJz2LpD5eySupjYGR1MbASGpj\nYCS1MTCS2hgYSW0MjKQ2BkZSGwMjqY2BkdTGwEhqY2AktTEwktoYGEltDIykNgZGUhsDI6mNgZHU\nZt63zBze3f9ZwGOBuwE/Ab4IfAj4yPDxIpK0XXPuwSR5C3DGsM2pjN6Y+6XA+Yw+dfFTSR4ziSEl\nLU/z7cG8vqo+v531n2P07v+3Be7RM5aklWC+wHx7vidW1U+B/1nacSStJPOd5D1n250kZ05gFkkr\nzHyBydj9g7sHkbTyzBeYmuO+JC3IfOdgDk1yDaM9mTsM9xmWq6pWt08naVmbLzB7T2wKSSvSfIG5\nTVX9eL4nJ9lnR9tI2nPNdw7mg0lOSfKo4ZoXAJLcI8mGJB8Gnto/oqTlar49mMOB3wBOAB6V5A7A\njcBljH5V4PlVdWX/iJKWqzkDM/ye0dnDlyTtNH+bWlIbAyOpjYGR1Gbe94PZJsmDgMcwuqL3U1X1\n361TSVoRdrgHk+TPgXcCBwAHAu9IclL3YJKWv4XswTwPeMi2C+qSvBK4CHhV52CSlr+FnIPZws1D\ntGpYJ0nzWsgezDXAxUnOZXQO5teAC5K8DqCqXto4n6RlbCGB+dDwtc1/Nc0iaYXZYWCq6vRJDCJp\n5VnIT5GelOSCJFuTXJPku2PvDSNJc1rIIdIbgKOBLzD6ZUdJWpCFBOYK4HNVZVwk7ZSFBOZlwDlJ\nPgFct21lVf1j11CSVoaFBOZk4HrgzniIJGknLCQwd6+qB7RPImnFWciVvOcmeUL7JJJWnIUE5veA\njyb5kT+mlrQzFnKItH/7FJJWpB3uwVTVz4FnAn863F8LPLh7MEnL30Ku5H0D8HjgucOqHwNv7hxK\n0sqwkEOkR1XVQ5NcBFBV1yTxUx8l7dBCTvJen+RWjN6qgSR3wethJC3AnIFJsm3v5o3A+4CZJCcD\n5wOnTGA2ScvcfIdInwEeWlX/muRC4AggwDOr6osTmU7SsjZfYLLtTlVdDFzcP46klWS+wMwkmfPt\nMKvqdQ3zSFpB5gvMXsC+jO3JSNLOmC8wW6rqryY2iaQVZ74fU7vnImmXzBeYwyc2haQVac7AVJW/\nMS1plyzkSl5JWhQDI6mNgZHUxsBIamNgJLUxMJLaGBhJbQyMpDYGRlIbAyOpjYGR1MbASGpjYCS1\nMTCS2hgYSW0MjKQ2BkZSGwMjqY2BkdTGwEhqY2AktTEwktoYGEltDIykNgZGUhsDI6mNgZHUxsBI\namNgJLUxMJLaGBhJbaYWmCR7JbkoyQeH5dVJzkty6XC737Rmk7Q0prkHcwJwydjyicCmqjoY2DQs\nS1rGphKYJAcCvw68ZWz1kcDG4f5G4KhJzyVpaU1rD+YfgJcBN46tW1NVW4b7VwFrtvfEJMcn2Zxk\n8+zsbPOYknbFxAOT5KnA1qq6cK5tqqqAmuOx06pqfVWtn5mZ6RpT0hJYNYXXfDTwtCRPAW4L3DHJ\nGcDVSdZW1ZYka4GtU5hN0hKa+B5MVZ1UVQdW1TrgGOBjVfUc4Gxgw7DZBuCsSc8maWntTtfBvBr4\n1SSXAkcMy5KWsWkcIt2kqj4BfGK4/x3g8GnOI2lp7U57MJJWGAMjqY2BkdTGwEhqY2AktTEwktoY\nGEltDIykNgZGUhsDI6mNgZHUxsBIamNgJLUxMJLaGBhJbQyMpDYGRlIbAyOpjYGR1MbASGpjYCS1\nMTCS2hgYSW0MjKQ2BkZSGwMjqY2BkdTGwEhqY2AktTEwktoYGEltDIykNgZGUhsDI6mNgZHUxsBI\namNgJLUxMJLaGBhJbQyMpDYGRlIbAyOpjYGR1MbASGpjYCS1MTCS2hgYSW0MjKQ2BkZSGwMjqY2B\nkdTGwEhqY2AktTEwktoYGEltDIykNgZGUhsDI6mNgZHUxsBIamNgJLUxMJLaGBhJbQyMpDYGRlIb\nAyOpjYGR1MbASGpjYCS1MTCS2hgYSW0MjKQ2BkZSGwMjqY2BkdTGwEhqY2AktTEwktoYGEltDIyk\nNgZGUhsDI6mNgZHUxsBIamNgJLUxMJLaGBhJbQyMpDYGRlIbAyOpjYGR1MbASGpjYCS1MTCS2kw8\nMEnunuTjSb6U5OIkJwzrVyc5L8mlw+1+k55N0tKaxh7MDcAfV9UhwCOAFyQ5BDgR2FRVBwObhmVJ\ny9jEA1NVW6rqs8P9HwKXAAcARwIbh802AkdNejZJS2uq52CSrAMeAnwaWFNVW4aHrgLWTGksSUtk\naoFJsi/wPuDFVfWD8ceqqoCa43nHJ9mcZPPs7OwEJpW0WFMJTJJbM4rL26vq/cPqq5OsHR5fC2zd\n3nOr6rSqWl9V62dmZiYzsKRFmcZPkQKcDlxSVa8be+hsYMNwfwNw1qRnk7S0Vk3hNR8NPBf4QpLP\nDev+DHg1cGaS44DLgaOnMJukJTTxwFTV+UDmePjwSc4iqZdX8kpqY2AktTEwktoYGEltDIykNgZG\nUhsDI6mNgZHUxsBIamNgJLUxMJLaGBhJbQyMpDYGRlIbAyOpjYGR1MbASGpjYCS1MTCS2hgYSW0M\njKQ2BkZSGwMjqY2BkdTGwEhqY2AktTEwktoYGEltDIykNgZGUhsDI6mNgZHUxsBIamNgJLUxMJLa\nGBhJbQyMpDYGRlIbAyOpjYGR1MbASGpjYCS1MTCS2hgYSW0MjKQ2BkZSGwMjqY2BkdTGwEhqY2Ak\ntTEwktoYGEltDIykNgZGUhsDI6mNgZHUxsBIamNgJLUxMJLaGBhJbQyMpDYGRlIbAyOpjYGR1MbA\nSGpjYCS1MTCS2hgYSW0MjKQ2BkZSGwMjqY2BkdTGwEhqY2AktTEwktoYGEltDIykNgZGUhsDI6mN\ngZHUxsBIamNgJLUxMJLaGBhJbQyMpDYGRlIbAyOpjYGR1MbASGpjYCS1MTCS2hgYSW0MjKQ2BkZS\nGwMjqc1uF5gkT0rylSSXJTlx2vNIWrzdKjBJ9gLeCDwZOAQ4Nskh051K0mLtVoEBHg5cVlVfraqf\nAe8CjpzyTJIWadW0B7iFA4Bvji1fAfzK+AZJjgeOHxZ/lOQrE5pN2o0cO+0B7rmQjXa3wOxQVZ0G\nnDbtOSTt2O52iHQlcPex5QOHdZKWod0tMBcAByc5KMnewDHA2VOeSdIi7VaHSFV1Q5I/As4F9gLe\nWlUXT3ksSYuUqpr2DJJWqN3tEEnSCmJgJLUxMJLaGBhJbQyMpDYGRlIbAyOpzf8BowXesKR229YA\nAAAASUVORK5CYII=\n",
      "text/plain": [
       "<matplotlib.figure.Figure at 0x2187f552e10>"
      ]
     },
     "metadata": {},
     "output_type": "display_data"
    },
    {
     "data": {
      "image/png": "iVBORw0KGgoAAAANSUhEUgAAAagAAAEYCAYAAAAJeGK1AAAABHNCSVQICAgIfAhkiAAAAAlwSFlz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\n",
      "text/plain": [
       "<matplotlib.figure.Figure at 0x2187f52d128>"
      ]
     },
     "metadata": {},
     "output_type": "display_data"
    }
   ],
=======
   "execution_count": null,
   "metadata": {
    "collapsed": true
   },
   "outputs": [],
>>>>>>> b6c85d893015c7e8d371a77ee99a34a0e91e4d45
   "source": [
    "# Plot the daily normals as an area plot with stacked=False\n",
    "df.plot(kind='area', stacked=False, x_compat=True, alpha=.2)\n",
    "plt.tight_layout()\n",
    "plt.show()"
   ]
<<<<<<< HEAD
  },
  {
   "cell_type": "code",
   "execution_count": null,
   "metadata": {
    "collapsed": true
   },
   "outputs": [],
   "source": []
=======
>>>>>>> b6c85d893015c7e8d371a77ee99a34a0e91e4d45
  }
 ],
 "metadata": {
  "kernelspec": {
   "display_name": "Python [conda env:PythonData]",
   "language": "python",
   "name": "conda-env-PythonData-py"
  },
  "language_info": {
   "codemirror_mode": {
    "name": "ipython",
    "version": 3
   },
   "file_extension": ".py",
   "mimetype": "text/x-python",
   "name": "python",
   "nbconvert_exporter": "python",
   "pygments_lexer": "ipython3",
   "version": "3.6.1"
  }
 },
 "nbformat": 4,
 "nbformat_minor": 2
}
