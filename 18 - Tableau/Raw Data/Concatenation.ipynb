{
 "cells": [
  {
   "cell_type": "code",
   "execution_count": 1,
   "metadata": {
    "collapsed": true
   },
   "outputs": [],
   "source": [
    "import shutil\n",
    "import glob"
   ]
  },
  {
   "cell_type": "code",
   "execution_count": 4,
   "metadata": {},
   "outputs": [
    {
     "name": "stdout",
     "output_type": "stream",
     "text": [
      "C:\\Users\\Abe\\Documents\\Rutgers Data Science Bootcamp\\RutgersBootCampHW\\18 - Tableau\\Raw Data\\2017\\2017 - 01 - Citi Bike trip data.csv has been imported.\n",
      "C:\\Users\\Abe\\Documents\\Rutgers Data Science Bootcamp\\RutgersBootCampHW\\18 - Tableau\\Raw Data\\2017\\2017 - 02 - Citi Bike trip data.csv has been imported.\n",
      "C:\\Users\\Abe\\Documents\\Rutgers Data Science Bootcamp\\RutgersBootCampHW\\18 - Tableau\\Raw Data\\2017\\2017 - 03 - Citi Bike trip data.csv has been imported.\n",
      "C:\\Users\\Abe\\Documents\\Rutgers Data Science Bootcamp\\RutgersBootCampHW\\18 - Tableau\\Raw Data\\2017\\2017 - 04 - Citi Bike trip data.csv has been imported.\n",
      "C:\\Users\\Abe\\Documents\\Rutgers Data Science Bootcamp\\RutgersBootCampHW\\18 - Tableau\\Raw Data\\2017\\2017 - 05 - Citi Bike trip data.csv has been imported.\n",
      "C:\\Users\\Abe\\Documents\\Rutgers Data Science Bootcamp\\RutgersBootCampHW\\18 - Tableau\\Raw Data\\2017\\2017 - 06 - Citi Bike trip data.csv has been imported.\n",
      "C:\\Users\\Abe\\Documents\\Rutgers Data Science Bootcamp\\RutgersBootCampHW\\18 - Tableau\\Raw Data\\2017\\2017 - 07 - Citi Bike trip data.csv has been imported.\n",
      "C:\\Users\\Abe\\Documents\\Rutgers Data Science Bootcamp\\RutgersBootCampHW\\18 - Tableau\\Raw Data\\2017\\2017 - 08 - Citi Bike trip data.csv has been imported.\n",
      "C:\\Users\\Abe\\Documents\\Rutgers Data Science Bootcamp\\RutgersBootCampHW\\18 - Tableau\\Raw Data\\2017\\2017 - 09 - Citi Bike trip data.csv has been imported.\n",
      "------------------------------------------\n"
     ]
    }
   ],
   "source": [
    "#import csv files from folder\n",
    "path = r'C:\\Users\\Abe\\Documents\\Rutgers Data Science Bootcamp\\RutgersBootCampHW\\18 - Tableau\\Raw Data\\2017'\n",
    "allFiles = glob.glob(path + \"/*.csv\")\n",
    "with open('2017.csv','wb') as outfile:\n",
    "    for i, fname in enumerate(glob.glob(path + \"/*.csv\")):\n",
    "        with open(fname,'rb') as infile:\n",
    "            if i != 0:\n",
    "                infile.readline() # Throw away header on all but first file\n",
    "            # Block copy rest of file from input to output without parsing\n",
    "            shutil.copyfileobj(infile, outfile)\n",
    "            print(fname + \" has been imported.\")\n",
    "            \n",
    "# Indicate that the Concatenation is done\n",
    "print(\"------------------------------------------\")"
   ]
  },
  {
   "cell_type": "code",
   "execution_count": null,
   "metadata": {
    "collapsed": true
   },
   "outputs": [],
   "source": [
    "import pandas as pd"
   ]
  },
  {
   "cell_type": "code",
   "execution_count": 1,
   "metadata": {
    "collapsed": true
   },
   "outputs": [],
   "source": [
    "# File to load\n",
    "#year_2013 = \"2013.csv\"\n",
    "# Read the Data\n",
    "#year_2013 = pd.read_csv(year_2013)\n",
    "#Display the data\n",
    "#year_2013"
   ]
  },
  {
   "cell_type": "code",
   "execution_count": 7,
   "metadata": {
    "collapsed": true
   },
   "outputs": [],
   "source": [
    "# Data Mungling\n",
    "# Change Gender\n",
    "\n",
    "# Drop Certain Year"
   ]
  },
  {
   "cell_type": "code",
   "execution_count": 1,
   "metadata": {
    "collapsed": true
   },
   "outputs": [],
   "source": [
    "#File to load\n",
    "#year_2014 = \"2014.csv\"\n",
    "#Read the Data\n",
    "#year_2014 = pd.read_csv(year_2014, low_memory=False)\n",
    "#Display the data\n",
    "#year_2014"
   ]
  },
  {
   "cell_type": "code",
   "execution_count": 9,
   "metadata": {
    "collapsed": true
   },
   "outputs": [],
   "source": [
    "# File to load\n",
    "#year_2015 = \"2015.csv\"\n",
    "# Read the Data\n",
    "#year_2015 = pd.read_csv(year_2015, low_memory=False)\n",
    "# Display the data\n",
    "#year_2015"
   ]
  },
  {
   "cell_type": "code",
   "execution_count": 10,
   "metadata": {
    "collapsed": true
   },
   "outputs": [],
   "source": [
    "# File to load\n",
    "#year_2016 = \"2016.csv\"\n",
    "# Read the Data\n",
    "#year_2016 = pd.read_csv(year_2016, low_memory=False)\n",
    "#Display the data\n",
    "#year_2016"
   ]
  },
  {
   "cell_type": "code",
   "execution_count": null,
   "metadata": {
    "collapsed": true
   },
   "outputs": [],
   "source": [
    "# File to load\n",
    "year_2017 = \"2017.csv\"\n",
    "# Read the Data\n",
    "year_2017 = pd.read_csv(year_2017)\n",
    "#Display the data\n",
    "year_2017"
   ]
  },
  {
   "cell_type": "code",
   "execution_count": null,
   "metadata": {
    "collapsed": true
   },
   "outputs": [],
   "source": []
  }
 ],
 "metadata": {
  "kernelspec": {
   "display_name": "Python [conda env:PythonData]",
   "language": "python",
   "name": "conda-env-PythonData-py"
  },
  "language_info": {
   "codemirror_mode": {
    "name": "ipython",
    "version": 3
   },
   "file_extension": ".py",
   "mimetype": "text/x-python",
   "name": "python",
   "nbconvert_exporter": "python",
   "pygments_lexer": "ipython3",
   "version": "3.6.1"
  }
 },
 "nbformat": 4,
 "nbformat_minor": 2
}
